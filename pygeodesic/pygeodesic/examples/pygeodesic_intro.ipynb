{
 "cells": [
  {
   "cell_type": "markdown",
   "id": "strange-pride",
   "metadata": {},
   "source": [
    "# Intro to pygeodesic\n",
    "\n",
    "Shows how to use pygeodesic to compute geodesic distances on the flat surface mesh provided with the original C++ code.\n",
    "\n",
    "Uses VTK to visualise the mesh, the geodesic distance and the geodesic path."
   ]
  },
  {
   "cell_type": "code",
   "execution_count": 1,
   "id": "ancient-payment",
   "metadata": {},
   "outputs": [],
   "source": [
    "# Imports\n",
    "import pygeodesic\n",
    "import pygeodesic.geodesic as geodesic\n",
    "import numpy as np\n",
    "import vtk\n",
    "from vtk_helpers import *"
   ]
  },
  {
   "cell_type": "code",
   "execution_count": 2,
   "id": "skilled-memorial",
   "metadata": {},
   "outputs": [
    {
     "data": {
      "text/plain": [
       "'0.1.6'"
      ]
     },
     "execution_count": 2,
     "metadata": {},
     "output_type": "execute_result"
    }
   ],
   "source": [
    "pygeodesic.__version__"
   ]
  },
  {
   "cell_type": "markdown",
   "id": "congressional-selection",
   "metadata": {},
   "source": [
    "## Compute geodesic distance and path between 2 points"
   ]
  },
  {
   "cell_type": "code",
   "execution_count": 3,
   "id": "understanding-adams",
   "metadata": {},
   "outputs": [],
   "source": [
    "# Read the mesh to get the points and faces of the mesh\n",
    "filename = r'data/flat_triangular_mesh.txt'\n",
    "result = geodesic.read_mesh_from_file(filename)\n",
    "if result:\n",
    "    points, faces = result"
   ]
  },
  {
   "cell_type": "code",
   "execution_count": 4,
   "id": "adopted-surrey",
   "metadata": {},
   "outputs": [],
   "source": [
    "# Initialise the PyGeodesicAlgorithmExact class instance\n",
    "geoalg = geodesic.PyGeodesicAlgorithmExact(points,faces)"
   ]
  },
  {
   "cell_type": "code",
   "execution_count": 5,
   "id": "registered-complement",
   "metadata": {},
   "outputs": [],
   "source": [
    "# Get the distance and the path between the source and target points\n",
    "sourceIndex = 25\n",
    "targetIndex = 97\n",
    "distance, path = geoalg.geodesicDistance(sourceIndex, targetIndex)"
   ]
  },
  {
   "cell_type": "code",
   "execution_count": 6,
   "id": "numeric-capability",
   "metadata": {},
   "outputs": [
    {
     "data": {
      "text/plain": [
       "1.697056274847714"
      ]
     },
     "execution_count": 6,
     "metadata": {},
     "output_type": "execute_result"
    }
   ],
   "source": [
    "# The geodesic distance between the source and target points\n",
    "distance"
   ]
  },
  {
   "cell_type": "code",
   "execution_count": 7,
   "id": "lyric-skill",
   "metadata": {},
   "outputs": [
    {
     "data": {
      "text/plain": [
       "array([[ 3.1,  0.8,  0. ],\n",
       "       [ 3. ,  0.7,  0. ],\n",
       "       [ 2.9,  0.6,  0. ],\n",
       "       [ 2.8,  0.5,  0. ],\n",
       "       [ 2.7,  0.4,  0. ],\n",
       "       [ 2.6,  0.3,  0. ],\n",
       "       [ 2.5,  0.2,  0. ],\n",
       "       [ 2.4,  0.1,  0. ],\n",
       "       [ 2.3,  0. ,  0. ],\n",
       "       [ 2.2, -0.1,  0. ],\n",
       "       [ 2.1, -0.2,  0. ],\n",
       "       [ 2. , -0.3,  0. ],\n",
       "       [ 1.9, -0.4,  0. ]])"
      ]
     },
     "execution_count": 7,
     "metadata": {},
     "output_type": "execute_result"
    }
   ],
   "source": [
    "# The geodesic path, represented by a number of 3D points along the path\n",
    "path"
   ]
  },
  {
   "cell_type": "markdown",
   "id": "numeric-bookmark",
   "metadata": {},
   "source": [
    "## Compute geodesic distance between source point and all other points"
   ]
  },
  {
   "cell_type": "code",
   "execution_count": 8,
   "id": "vocational-subscriber",
   "metadata": {},
   "outputs": [],
   "source": [
    "source_indices = np.array([sourceIndex])\n",
    "distances, best_source = geoalg.geodesicDistances(source_indices)"
   ]
  },
  {
   "cell_type": "code",
   "execution_count": 9,
   "id": "numerous-animation",
   "metadata": {},
   "outputs": [
    {
     "data": {
      "text/plain": [
       "array([0.72111026, 0.56568542, 0.4472136 , 0.4       , 0.4472136 ,\n",
       "       0.56568542, 0.72111026, 0.89442719, 1.07703296, 1.26491106,\n",
       "       1.45602198, 0.63245553, 0.4472136 , 0.28284271, 0.2       ,\n",
       "       0.28284271, 0.4472136 , 0.63245553, 0.82462113, 1.0198039 ,\n",
       "       1.21655251, 1.41421356, 0.6       , 0.4       , 0.2       ,\n",
       "       0.        , 0.2       , 0.4       , 0.6       , 0.8       ,\n",
       "       1.        , 1.2       , 1.4       , 0.63245553, 0.4472136 ,\n",
       "       0.28284271, 0.2       , 0.28284271, 0.4472136 , 0.63245553,\n",
       "       0.82462113, 1.0198039 , 1.21655251, 1.41421356, 0.72111026,\n",
       "       0.56568542, 0.4472136 , 0.4       , 0.4472136 , 0.56568542,\n",
       "       0.72111026, 0.89442719, 1.07703296, 1.26491106, 1.45602198,\n",
       "       0.84852814, 0.72111026, 0.63245553, 0.6       , 0.63245553,\n",
       "       0.72111026, 0.84852814, 1.        , 1.16619038, 1.34164079,\n",
       "       1.52315462, 1.        , 0.89442719, 0.82462113, 0.8       ,\n",
       "       0.82462113, 0.89442719, 1.        , 1.13137085, 1.28062485,\n",
       "       1.44222051, 1.61245155, 1.16619038, 1.07703296, 1.0198039 ,\n",
       "       1.        , 1.0198039 , 1.07703296, 1.16619038, 1.28062485,\n",
       "       1.41421356, 1.56204994, 1.72046505, 1.34164079, 1.26491106,\n",
       "       1.21655251, 1.2       , 1.21655251, 1.26491106, 1.34164079,\n",
       "       1.44222051, 1.56204994, 1.69705627, 1.84390889, 1.52315462,\n",
       "       1.45602198, 1.41421356, 1.4       , 1.41421356, 1.45602198,\n",
       "       1.52315462, 1.61245155, 1.72046505, 1.84390889, 1.97989899,\n",
       "       1.70880075, 1.64924225, 1.61245155, 1.6       , 1.61245155,\n",
       "       1.64924225, 1.70880075, 1.78885438, 1.88679623, 2.        ,\n",
       "       2.12602916])"
      ]
     },
     "execution_count": 9,
     "metadata": {},
     "output_type": "execute_result"
    }
   ],
   "source": [
    "distances"
   ]
  },
  {
   "cell_type": "markdown",
   "id": "downtown-undergraduate",
   "metadata": {},
   "source": [
    "## Visualise path using VTK"
   ]
  },
  {
   "cell_type": "code",
   "execution_count": 10,
   "id": "duplicate-angle",
   "metadata": {},
   "outputs": [],
   "source": [
    "# Create actors\n",
    "polydata_actor = createPolyDataActor(polydataFromPointsAndCells(points, faces))\n",
    "path_actor = createPolyLineActor(path, color=(1,1,1))\n",
    "point_actors = [createSphereActor(points[indx], radius=0.03) for indx in [sourceIndex, targetIndex]]"
   ]
  },
  {
   "cell_type": "code",
   "execution_count": 11,
   "id": "caroline-booking",
   "metadata": {},
   "outputs": [],
   "source": [
    "# Add \"distances\" to polydata_actor to visualise distance contour from source point\n",
    "result = polydata_actor.GetMapper().GetInput().GetPointData().SetScalars(nps.numpy_to_vtk(distances))\n",
    "polydata_actor.GetMapper().SetScalarRange([distances.min(),distances.max()])"
   ]
  },
  {
   "cell_type": "code",
   "execution_count": 12,
   "id": "considerable-edgar",
   "metadata": {},
   "outputs": [],
   "source": [
    "# Show VTK render window\n",
    "v = Viewer()\n",
    "v.addActors([polydata_actor, path_actor, *point_actors])\n",
    "v.show()"
   ]
  },
  {
   "cell_type": "markdown",
   "id": "sustained-skating",
   "metadata": {},
   "source": [
    "## Compute geodesic distance between 2 source points and all other points"
   ]
  },
  {
   "cell_type": "code",
   "execution_count": 13,
   "id": "minute-mixer",
   "metadata": {},
   "outputs": [],
   "source": [
    "source_indices = np.array([25,100,])\n",
    "distances, best_source = geoalg.geodesicDistances(source_indices)"
   ]
  },
  {
   "cell_type": "code",
   "execution_count": 14,
   "id": "neutral-preserve",
   "metadata": {},
   "outputs": [
    {
     "data": {
      "text/plain": [
       "(array([0.72111026, 0.56568542, 0.4472136 , 0.4       , 0.4472136 ,\n",
       "        0.56568542, 0.72111026, 0.89442719, 1.07703296, 1.26491106,\n",
       "        1.45602198, 0.63245553, 0.4472136 , 0.28284271, 0.2       ,\n",
       "        0.28284271, 0.4472136 , 0.63245553, 0.82462113, 1.0198039 ,\n",
       "        1.21655251, 1.41421356, 0.6       , 0.4       , 0.2       ,\n",
       "        0.        , 0.2       , 0.4       , 0.6       , 0.8       ,\n",
       "        1.        , 1.2       , 1.4       , 0.63245553, 0.4472136 ,\n",
       "        0.28284271, 0.2       , 0.28284271, 0.4472136 , 0.63245553,\n",
       "        0.82462113, 1.0198039 , 1.21655251, 1.41421356, 0.72111026,\n",
       "        0.56568542, 0.4472136 , 0.4       , 0.4472136 , 0.56568542,\n",
       "        0.72111026, 0.89442719, 1.07703296, 1.26491106, 1.45602198,\n",
       "        0.82462113, 0.72111026, 0.63245553, 0.6       , 0.63245553,\n",
       "        0.72111026, 0.84852814, 1.        , 1.16619038, 1.34164079,\n",
       "        1.52315462, 0.63245553, 0.6       , 0.63245553, 0.72111026,\n",
       "        0.82462113, 0.89442719, 1.        , 1.13137085, 1.28062485,\n",
       "        1.44222051, 1.61245155, 0.4472136 , 0.4       , 0.4472136 ,\n",
       "        0.56568542, 0.72111026, 0.89442719, 1.07703296, 1.26491106,\n",
       "        1.41421356, 1.56204994, 1.72046505, 0.28284271, 0.2       ,\n",
       "        0.28284271, 0.4472136 , 0.63245553, 0.82462113, 1.0198039 ,\n",
       "        1.21655251, 1.41421356, 1.61245155, 1.81107703, 0.2       ,\n",
       "        0.        , 0.2       , 0.4       , 0.6       , 0.8       ,\n",
       "        1.        , 1.2       , 1.4       , 1.6       , 1.8       ,\n",
       "        0.28284271, 0.2       , 0.28284271, 0.4472136 , 0.63245553,\n",
       "        0.82462113, 1.0198039 , 1.21655251, 1.41421356, 1.61245155,\n",
       "        1.81107703]),\n",
       " array([0, 0, 0, 0, 0, 0, 0, 0, 0, 0, 0, 0, 0, 0, 0, 0, 0, 0, 0, 0, 0, 0,\n",
       "        0, 0, 0, 0, 0, 0, 0, 0, 0, 0, 0, 0, 0, 0, 0, 0, 0, 0, 0, 0, 0, 0,\n",
       "        0, 0, 0, 0, 0, 0, 0, 0, 0, 0, 0, 1, 0, 0, 0, 0, 0, 0, 0, 0, 0, 0,\n",
       "        1, 1, 1, 1, 0, 0, 0, 0, 0, 0, 0, 1, 1, 1, 1, 1, 1, 1, 1, 0, 0, 0,\n",
       "        1, 1, 1, 1, 1, 1, 1, 1, 1, 1, 1, 1, 1, 1, 1, 1, 1, 1, 1, 1, 1, 1,\n",
       "        1, 1, 1, 1, 1, 1, 1, 1, 1, 1, 1]))"
      ]
     },
     "execution_count": 14,
     "metadata": {},
     "output_type": "execute_result"
    }
   ],
   "source": [
    "distances, best_source"
   ]
  },
  {
   "cell_type": "markdown",
   "id": "economic-shannon",
   "metadata": {},
   "source": [
    "## Visualise geodesic distance to closest source using VTK\n",
    "\n",
    "Color mesh by the distance to theclosest source"
   ]
  },
  {
   "cell_type": "code",
   "execution_count": 15,
   "id": "liquid-rocket",
   "metadata": {},
   "outputs": [],
   "source": [
    "# Create actors\n",
    "polydata_actor = createPolyDataActor(polydataFromPointsAndCells(points, faces))\n",
    "point_actors = [createSphereActor(p,radius=0.03) for p in points[source_indices]]"
   ]
  },
  {
   "cell_type": "code",
   "execution_count": 16,
   "id": "operational-nothing",
   "metadata": {},
   "outputs": [],
   "source": [
    "# Add \"distances\" to polydata_actor to visualise distance contour from source point\n",
    "result = polydata_actor.GetMapper().GetInput().GetPointData().SetScalars(nps.numpy_to_vtk(distances))\n",
    "polydata_actor.GetMapper().SetScalarRange([distances.min(),distances.max()])"
   ]
  },
  {
   "cell_type": "code",
   "execution_count": 17,
   "id": "existing-visibility",
   "metadata": {},
   "outputs": [],
   "source": [
    "# Show VTK render window\n",
    "v = Viewer()\n",
    "v.addActors([polydata_actor, *point_actors])\n",
    "v.show()"
   ]
  },
  {
   "cell_type": "markdown",
   "id": "enormous-separation",
   "metadata": {},
   "source": [
    "## Visualise best source for all points using VTK\n",
    "\n",
    "Color mesh by the index of the closest source"
   ]
  },
  {
   "cell_type": "code",
   "execution_count": 18,
   "id": "dangerous-harbor",
   "metadata": {},
   "outputs": [],
   "source": [
    "# Create actors\n",
    "polydata_actor = createPolyDataActor(polydataFromPointsAndCells(points, faces))\n",
    "point_actors = [createSphereActor(p,radius=0.03) for p in points[source_indices]]"
   ]
  },
  {
   "cell_type": "code",
   "execution_count": 19,
   "id": "residential-scoop",
   "metadata": {},
   "outputs": [],
   "source": [
    "# Add \"distances\" to polydata_actor to visualise distance contour from source point\n",
    "result = polydata_actor.GetMapper().GetInput().GetPointData().SetScalars(nps.numpy_to_vtk(best_source))"
   ]
  },
  {
   "cell_type": "code",
   "execution_count": 20,
   "id": "confidential-anatomy",
   "metadata": {},
   "outputs": [],
   "source": [
    "# Show VTK render window\n",
    "v = Viewer()\n",
    "v.addActors([polydata_actor, *point_actors])\n",
    "v.show()"
   ]
  },
  {
   "cell_type": "code",
   "execution_count": null,
   "id": "seven-lover",
   "metadata": {},
   "outputs": [],
   "source": []
  }
 ],
 "metadata": {
  "kernelspec": {
   "display_name": "Python 3",
   "language": "python",
   "name": "python3"
  },
  "language_info": {
   "codemirror_mode": {
    "name": "ipython",
    "version": 3
   },
   "file_extension": ".py",
   "mimetype": "text/x-python",
   "name": "python",
   "nbconvert_exporter": "python",
   "pygments_lexer": "ipython3",
   "version": "3.7.9"
  }
 },
 "nbformat": 4,
 "nbformat_minor": 5
}
