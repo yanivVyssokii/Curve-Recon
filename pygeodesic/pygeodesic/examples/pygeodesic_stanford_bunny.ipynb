{
 "cells": [
  {
   "cell_type": "markdown",
   "id": "proper-elements",
   "metadata": {},
   "source": [
    "# Stanford bunny example\n",
    "\n",
    "Shows how to use pygeodesic to compute geodesic distances using the Stanford Bunny as an example.\n",
    "\n",
    "Uses VTK to visualise the mesh, the geodesic distance and the geodesic path."
   ]
  },
  {
   "cell_type": "code",
   "execution_count": 1,
   "id": "critical-seventh",
   "metadata": {},
   "outputs": [],
   "source": [
    "# Imports\n",
    "import pygeodesic\n",
    "import pygeodesic.geodesic as geodesic\n",
    "import numpy as np\n",
    "import vtk\n",
    "from vtk_helpers import *"
   ]
  },
  {
   "cell_type": "code",
   "execution_count": 2,
   "id": "stock-ensemble",
   "metadata": {},
   "outputs": [
    {
     "data": {
      "text/plain": [
       "'0.1.6'"
      ]
     },
     "execution_count": 2,
     "metadata": {},
     "output_type": "execute_result"
    }
   ],
   "source": [
    "pygeodesic.__version__"
   ]
  },
  {
   "cell_type": "markdown",
   "id": "popular-contribution",
   "metadata": {},
   "source": [
    "## Compute geodesic distance and path between 2 points"
   ]
  },
  {
   "cell_type": "code",
   "execution_count": 3,
   "id": "reasonable-factory",
   "metadata": {},
   "outputs": [],
   "source": [
    "# Read the mesh to get the points and faces of the mesh\n",
    "filename = r'data/stanford_bunny.ply'\n",
    "reader = vtk.vtkPLYReader()\n",
    "reader.SetFileName(filename)\n",
    "reader.Update()\n",
    "polydata = reader.GetOutput()\n",
    "points, faces = getPointsAndCellsFromPolydata(polydata)"
   ]
  },
  {
   "cell_type": "code",
   "execution_count": 4,
   "id": "tender-support",
   "metadata": {},
   "outputs": [
    {
     "data": {
      "text/plain": [
       "(array([[-0.0378297 ,  0.12794   ,  0.00447467],\n",
       "        [-0.0447794 ,  0.128887  ,  0.00190497],\n",
       "        [-0.0680095 ,  0.151244  ,  0.0371953 ],\n",
       "        ...,\n",
       "        [-0.0704544 ,  0.150585  , -0.0434585 ],\n",
       "        [-0.0310262 ,  0.15372799, -0.00354608],\n",
       "        [-0.0400442 ,  0.15362   , -0.00816685]]),\n",
       " array([[21216, 21215, 20399],\n",
       "        [ 9186,  9280, 14838],\n",
       "        [16020, 13433,  5187],\n",
       "        ...,\n",
       "        [17346, 34909, 17279],\n",
       "        [34909, 17346, 17277],\n",
       "        [17277, 17346, 17345]]))"
      ]
     },
     "execution_count": 4,
     "metadata": {},
     "output_type": "execute_result"
    }
   ],
   "source": [
    "points, faces"
   ]
  },
  {
   "cell_type": "code",
   "execution_count": 5,
   "id": "patent-entry",
   "metadata": {},
   "outputs": [],
   "source": [
    "# Initialise the PyGeodesicAlgorithmExact class instance\n",
    "geoalg = geodesic.PyGeodesicAlgorithmExact(points, faces)"
   ]
  },
  {
   "cell_type": "code",
   "execution_count": 6,
   "id": "comprehensive-crossing",
   "metadata": {},
   "outputs": [],
   "source": [
    "# Get the distance and the path between the source and target points\n",
    "sourceIndex = 14558\n",
    "targetIndex = 13039\n",
    "distance, path = geoalg.geodesicDistance(sourceIndex, targetIndex)"
   ]
  },
  {
   "cell_type": "code",
   "execution_count": 7,
   "id": "exciting-cloud",
   "metadata": {},
   "outputs": [
    {
     "data": {
      "text/plain": [
       "0.22686869313968416"
      ]
     },
     "execution_count": 7,
     "metadata": {},
     "output_type": "execute_result"
    }
   ],
   "source": [
    "# The geodesic distance between the source and target points\n",
    "distance"
   ]
  },
  {
   "cell_type": "code",
   "execution_count": 8,
   "id": "finished-warning",
   "metadata": {},
   "outputs": [
    {
     "data": {
      "text/plain": [
       "array([[ 0.0602499 ,  0.0678328 ,  0.0161531 ],\n",
       "       [ 0.05966812,  0.06917454,  0.01614467],\n",
       "       [ 0.05965691,  0.06919319,  0.01614385],\n",
       "       ...,\n",
       "       [-0.01080809,  0.17986084, -0.02632301],\n",
       "       [-0.01076728,  0.17993033, -0.02646636],\n",
       "       [-0.0105893 ,  0.180273  , -0.0272114 ]])"
      ]
     },
     "execution_count": 8,
     "metadata": {},
     "output_type": "execute_result"
    }
   ],
   "source": [
    "# The geodesic path, represented by a number of 3D points along the path\n",
    "path"
   ]
  },
  {
   "cell_type": "markdown",
   "id": "qualified-secretary",
   "metadata": {},
   "source": [
    "## Compute geodesic distance between source point and all other points"
   ]
  },
  {
   "cell_type": "code",
   "execution_count": 9,
   "id": "ignored-london",
   "metadata": {},
   "outputs": [],
   "source": [
    "source_indices = np.array([sourceIndex])\n",
    "distances, best_source = geoalg.geodesicDistances(source_indices)"
   ]
  },
  {
   "cell_type": "code",
   "execution_count": 10,
   "id": "hybrid-artist",
   "metadata": {},
   "outputs": [
    {
     "data": {
      "text/plain": [
       "(array([0.08835966, 0.08197761, 0.09403253, ..., 0.11232286, 0.04478607,\n",
       "        0.04779301]),\n",
       " array([0, 0, 0, ..., 0, 0, 0]))"
      ]
     },
     "execution_count": 10,
     "metadata": {},
     "output_type": "execute_result"
    }
   ],
   "source": [
    "distances, best_source"
   ]
  },
  {
   "cell_type": "markdown",
   "id": "communist-relation",
   "metadata": {},
   "source": [
    "## Visualise path using VTK"
   ]
  },
  {
   "cell_type": "code",
   "execution_count": 11,
   "id": "bulgarian-roulette",
   "metadata": {},
   "outputs": [],
   "source": [
    "# Create actors\n",
    "polydata_actor = createPolyDataActor(polydataFromPointsAndCells(points, faces))\n",
    "path_actor = createPolyLineActor(path, color=(1,1,1))\n",
    "point_actors = [createSphereActor(points[indx], radius=0.001) for indx in [sourceIndex, targetIndex]]"
   ]
  },
  {
   "cell_type": "code",
   "execution_count": 12,
   "id": "crude-georgia",
   "metadata": {},
   "outputs": [],
   "source": [
    "# Add \"distances\" to polydata_actor to visualise distance contour from source point\n",
    "result = polydata_actor.GetMapper().GetInput().GetPointData().SetScalars(nps.numpy_to_vtk(distances))\n",
    "dmin = distances[np.where(distances != np.inf)].min()\n",
    "dmax = distances[np.where(distances != np.inf)].max()\n",
    "polydata_actor.GetMapper().SetScalarRange([dmin, dmax])"
   ]
  },
  {
   "cell_type": "code",
   "execution_count": 13,
   "id": "unexpected-flashing",
   "metadata": {},
   "outputs": [],
   "source": [
    "# Show VTK render window\n",
    "v = Viewer()\n",
    "v.addActors([polydata_actor, path_actor, *point_actors])\n",
    "v.show()"
   ]
  },
  {
   "cell_type": "code",
   "execution_count": null,
   "id": "hungry-joseph",
   "metadata": {},
   "outputs": [],
   "source": []
  }
 ],
 "metadata": {
  "kernelspec": {
   "display_name": "Python 3",
   "language": "python",
   "name": "python3"
  },
  "language_info": {
   "codemirror_mode": {
    "name": "ipython",
    "version": 3
   },
   "file_extension": ".py",
   "mimetype": "text/x-python",
   "name": "python",
   "nbconvert_exporter": "python",
   "pygments_lexer": "ipython3",
   "version": "3.7.9"
  }
 },
 "nbformat": 4,
 "nbformat_minor": 5
}
